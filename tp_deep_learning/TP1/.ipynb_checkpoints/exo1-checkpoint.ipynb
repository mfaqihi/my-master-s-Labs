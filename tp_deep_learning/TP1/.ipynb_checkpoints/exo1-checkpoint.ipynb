{
 "cells": [
  {
   "cell_type": "markdown",
   "metadata": {},
   "source": [
    "# Exercice 1 : Régression Logistique"
   ]
  },
  {
   "cell_type": "code",
   "execution_count": 1,
   "metadata": {},
   "outputs": [
    {
     "name": "stderr",
     "output_type": "stream",
     "text": [
      "Using TensorFlow backend.\n"
     ]
    }
   ],
   "source": [
    "from keras.datasets import mnist\n",
    "import matplotlib as mpl\n",
    "import matplotlib.pyplot as plt\n",
    "from keras.utils import np_utils\n",
    "import numpy as np\n"
   ]
  },
  {
   "cell_type": "code",
   "execution_count": 2,
   "metadata": {},
   "outputs": [
    {
     "name": "stdout",
     "output_type": "stream",
     "text": [
      "60000 train samples\n",
      "10000 test samples\n"
     ]
    }
   ],
   "source": [
    "# the data, shuffled and split between train and test sets\n",
    "(X_train, y_train), (X_test, y_test) = mnist.load_data()\n",
    "X_train = X_train.reshape(60000, 784)\n",
    "X_test = X_test.reshape(10000, 784)\n",
    "X_train = X_train.astype('float32')\n",
    "X_test = X_test.astype('float32')\n",
    "X_train /= 255\n",
    "X_test /= 255\n",
    "print(X_train.shape[0], 'train samples')\n",
    "print(X_test.shape[0], 'test samples')"
   ]
  },
  {
   "cell_type": "code",
   "execution_count": 3,
   "metadata": {},
   "outputs": [
    {
     "name": "stdout",
     "output_type": "stream",
     "text": [
      "epoch  0 accurcy train= 89.27333333333334 accurcy test= 90.24\n",
      "epoch  1 accurcy train= 90.33 accurcy test= 90.91\n",
      "epoch  2 accurcy train= 90.92833333333333 accurcy test= 91.36999999999999\n",
      "epoch  3 accurcy train= 91.25333333333333 accurcy test= 91.60000000000001\n",
      "epoch  4 accurcy train= 91.45333333333333 accurcy test= 91.7\n",
      "epoch  5 accurcy train= 91.62333333333333 accurcy test= 91.81\n",
      "epoch  6 accurcy train= 91.74833333333333 accurcy test= 91.86999999999999\n",
      "epoch  7 accurcy train= 91.85 accurcy test= 91.95\n",
      "epoch  8 accurcy train= 91.96 accurcy test= 92.04\n",
      "epoch  9 accurcy train= 92.035 accurcy test= 92.04\n",
      "epoch  10 accurcy train= 92.09 accurcy test= 92.13\n",
      "epoch  11 accurcy train= 92.17333333333333 accurcy test= 92.14\n",
      "epoch  12 accurcy train= 92.23333333333333 accurcy test= 92.15\n",
      "epoch  13 accurcy train= 92.25999999999999 accurcy test= 92.15\n",
      "epoch  14 accurcy train= 92.31166666666667 accurcy test= 92.21000000000001\n",
      "epoch  15 accurcy train= 92.36666666666666 accurcy test= 92.22\n",
      "epoch  16 accurcy train= 92.40333333333334 accurcy test= 92.22\n",
      "epoch  17 accurcy train= 92.44166666666666 accurcy test= 92.22\n",
      "epoch  18 accurcy train= 92.47999999999999 accurcy test= 92.22\n",
      "epoch  19 accurcy train= 92.50166666666667 accurcy test= 92.24\n"
     ]
    }
   ],
   "source": [
    "K=10\n",
    "# convert class vectors to binary class matrices\n",
    "Y_train = np_utils.to_categorical(y_train, K)\n",
    "Y_test = np_utils.to_categorical(y_test, K)\n",
    "\n",
    "N = X_train.shape[0]\n",
    "d = X_train.shape[1]\n",
    "W = np.zeros((d,K))\n",
    "b = np.zeros((1,K))\n",
    "numEp = 20 # Number of epochs for gradient descent\n",
    "eta = 1e-1 # Learning rate\n",
    "batch_size = 100\n",
    "nb_batches = int(float(N) / batch_size)\n",
    "gradW = np.zeros((d,K))\n",
    "gradb = np.zeros((1,K))\n",
    "\n",
    "\n",
    "def forward1(batch, W, b):\n",
    "    numerateur = np.exp(np.dot(batch,W)+b);\n",
    "    denominateur = np.sum(numerateur, axis=1)[:,None]\n",
    "    y_bar = numerateur/denominateur;\n",
    "    return y_bar;\n",
    "\n",
    "def accuracy(W, b, images, labels):\n",
    "  pred = forward1(images, W,b )\n",
    "  return np.where( pred.argmax(axis=1) != labels.argmax(axis=1) , 0.,1.).mean()*100.0\n",
    "\n",
    "for epoch in range(numEp):\n",
    "  for ex in range(nb_batches):\n",
    "     # FORWARD PASS : compute prediction with current params for examples in batch\n",
    "     batch = X_train[ex*batch_size:(ex+1)*batch_size,:]\n",
    "     y_batch = Y_train[ex*batch_size:(ex+1)*batch_size,:]\n",
    "     Y_bar = forward1(batch,W,b);\n",
    "     # BACKWARD PASS :\n",
    "     # 1) compute gradients for W and b\n",
    "     gradW = (1/batch_size)*np.dot(batch.T,(-y_batch+Y_bar))\n",
    "     gradb = (1/batch_size)*np.sum((-y_batch+Y_bar),0)\n",
    "     # 2) update W and b parameters with gradient descent\n",
    "     W = W - eta*gradW\n",
    "     b = b - eta*gradb\n",
    "  print(\"epoch \", epoch, \"accurcy train=\",accuracy(W, b, X_train, Y_train), \"accurcy test=\",accuracy(W, b, X_test, Y_test))  \n",
    "\n",
    "     \n"
   ]
  }
 ],
 "metadata": {
  "kernelspec": {
   "display_name": "Python 3",
   "language": "python",
   "name": "python3"
  },
  "language_info": {
   "codemirror_mode": {
    "name": "ipython",
    "version": 3
   },
   "file_extension": ".py",
   "mimetype": "text/x-python",
   "name": "python",
   "nbconvert_exporter": "python",
   "pygments_lexer": "ipython3",
   "version": "3.7.4"
  }
 },
 "nbformat": 4,
 "nbformat_minor": 2
}
